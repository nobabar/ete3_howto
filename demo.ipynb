{
 "cells": [
  {
   "cell_type": "markdown",
   "id": "0d45bb09-f7dd-41fc-a000-f362d4184b6e",
   "metadata": {},
   "source": [
    "## ETL \n",
    "Création des données supplémentaire"
   ]
  },
  {
   "cell_type": "code",
   "execution_count": null,
   "id": "f39f9bfa-61ca-4666-bce3-5aa4cc393215",
   "metadata": {},
   "outputs": [],
   "source": [
    "!cat ./data/spike_data_708.fasta | grep \">\" | sed \"s/>//\" > ./data/spike_header_cl.txt "
   ]
  },
  {
   "cell_type": "markdown",
   "id": "056ec703-383f-4bdc-8495-c5e5e8adaa7f",
   "metadata": {},
   "source": [
    "Chargement des modules nécessaires"
   ]
  },
  {
   "cell_type": "code",
   "execution_count": 26,
   "id": "a056d411-feb3-42d2-8b92-525260a41ec4",
   "metadata": {},
   "outputs": [],
   "source": [
    "from ete3 import Tree, PhyloTree, TreeStyle, NodeStyle, TextFace\n",
    "import pandas as pd\n",
    "import numpy as np\n",
    "import matplotlib.pyplot as plt"
   ]
  },
  {
   "cell_type": "markdown",
   "id": "1918528c-4c2d-433f-958b-9d2a4fa08d29",
   "metadata": {},
   "source": [
    "Importation des données supplémentaires"
   ]
  },
  {
   "cell_type": "code",
   "execution_count": 27,
   "id": "f2d90e57-b3e7-4356-a7ed-89e675a99452",
   "metadata": {},
   "outputs": [],
   "source": [
    "prot_names = []\n",
    "prot_dates = []\n",
    "prot_origin = []\n",
    "\n",
    "with open(\"./data/spike_header_cl.txt\", \"r\") as filein:\n",
    "    for ligne in filein:\n",
    "        l_spl = ligne.split(\"|\")\n",
    "        prot_names.append(l_spl[0].split()[0])\n",
    "        prot_origin.append(l_spl[1].split('\"')[1])\n",
    "        prot_dates.append(l_spl[2])\n",
    "\n",
    "# organiser as dataframe\n",
    "spike_df = pd.DataFrame(data = {\"name\" : prot_names,\n",
    "                                \"origin\" : prot_origin,\n",
    "                                \"date\" : prot_dates})\n",
    "spike_df[\"date\"] = pd.to_datetime(spike_df[\"date\"])\n",
    "spike_df.index = spike_df[\"name\"]"
   ]
  },
  {
   "cell_type": "markdown",
   "id": "b2f41959-b21e-4107-bf74-d3d257bdd1cf",
   "metadata": {},
   "source": [
    "Importation des données de l'arbre"
   ]
  },
  {
   "cell_type": "code",
   "execution_count": 28,
   "id": "96528daf-f137-4a38-b022-2d4c257e2f6b",
   "metadata": {},
   "outputs": [],
   "source": [
    "tree_root = PhyloTree(newick = \"./data/nj_tree.nwk\", format = 1)#, alignment = \"./data/clustalo_alg.fasta\", alg_format = \"fasta\")"
   ]
  },
  {
   "cell_type": "markdown",
   "id": "1c6260eb-7f64-4c6e-a128-561f3218ada0",
   "metadata": {},
   "source": [
    "## Exploration du dataset"
   ]
  },
  {
   "cell_type": "code",
   "execution_count": 29,
   "id": "ffaff7cb-46b0-4617-8d8c-71b275f998f2",
   "metadata": {},
   "outputs": [
    {
     "name": "stdout",
     "output_type": "stream",
     "text": [
      "La distance à la plus proche feuille QZW38759.1 est : -7.004623660614162e-17\n",
      "Son origine est USA, sa date de séquençage est le 2021-08-25 00:00:00\n",
      "La distance à la plus lointaine feuille QRW61256.1 est : 0.7725499999999998\n",
      "Son origine est USA, sa date de séquençage est le 2020-12-24 00:00:00\n"
     ]
    }
   ],
   "source": [
    "leaf_clo, dist_to_leaf = tree_root.get_closest_leaf()\n",
    "print(f\"La distance à la plus proche feuille {leaf_clo.name} est : {dist_to_leaf}\\n\"\n",
    "     f\"Son origine est {spike_df.loc[leaf_clo.name]['origin']}, sa date de séquençage est le {spike_df.loc[leaf_clo.name]['date']}\")\n",
    "leaf_far, dist_to_leaf_far = tree_root.get_farthest_leaf()\n",
    "print(f\"La distance à la plus lointaine feuille {leaf_far.name} est : {dist_to_leaf_far}\\n\"\n",
    "     f\"Son origine est {spike_df.loc[leaf_far.name]['origin']}, sa date de séquençage est le {spike_df.loc[leaf_far.name]['date']}\")"
   ]
  },
  {
   "cell_type": "code",
   "execution_count": 30,
   "id": "e649e0b1-0a09-4fc6-8d66-19241931ba84",
   "metadata": {},
   "outputs": [
    {
     "name": "stdout",
     "output_type": "stream",
     "text": [
      "Notre dataset possède 708 séquences, que nous avons organisées en arbre.\n",
      "Les pays d'origine de ces séquences sont France, Lebanon, India, Chile, Georgia, USA, United Kingdom, China, Saudi Arabia, Bangladesh, Australia, Russia, Ghana, Italy, Germany, Spain, Thailand, Egypt, mais la représentation n'est pas équilibrée entre ces différents pays\n"
     ]
    }
   ],
   "source": [
    "print(f\"Notre dataset possède {spike_df.shape[0]} séquences, que nous avons organisées en arbre.\\n\"\n",
    "      f\"Les pays d'origine de ces séquences sont {', '.join(set(spike_df['origin']))}, mais la représentation n'est pas équilibrée \"\n",
    "     \"entre ces différents pays\")"
   ]
  },
  {
   "cell_type": "code",
   "execution_count": 31,
   "id": "f63766bb-d5e1-4857-ad11-e7b9718c28ac",
   "metadata": {},
   "outputs": [
    {
     "data": {
      "image/png": "[encoded data removed]",
      "text/plain": [
       "<Figure size 432x288 with 1 Axes>"
      ]
     },
     "metadata": {
      "needs_background": "light"
     },
     "output_type": "display_data"
    }
   ],
   "source": [
    "count_by_or = spike_df[\"origin\"].value_counts()\n",
    "plt.bar(count_by_or.index, count_by_or)\n",
    "plt.title(\"Séquences par pays\")\n",
    "plt.xlabel(\"Pays\")\n",
    "plt.ylabel(\"Nombre de séquences\")\n",
    "plt.xticks(rotation=30, ha='right')\n",
    "plt.savefig(\"test_bar.png\")"
   ]
  },
  {
   "cell_type": "markdown",
   "id": "96c2245b-94d3-4730-8ba6-2e6805509473",
   "metadata": {},
   "source": [
    "## Cas d'étude : Australie\n",
    "Etant donné le grand nombre de séquences dans nos données, afin de démontrer les capacités d'exploration et d'analyse des arbres, nous allons étudier un sous ensemble de nos données : les séquences provenant d'Australie"
   ]
  },
  {
   "cell_type": "code",
   "execution_count": 32,
   "id": "90f135e6-9323-41c5-a54a-f134cda6a569",
   "metadata": {},
   "outputs": [
    {
     "data": {
      "text/plain": [
       "USA               651\n",
       "Australia          21\n",
       "India               9\n",
       "Bangladesh          5\n",
       "Egypt               4\n",
       "Saudi Arabia        3\n",
       "Spain               2\n",
       "Germany             2\n",
       "United Kingdom      2\n",
       "Ghana               1\n",
       "Lebanon             1\n",
       "Thailand            1\n",
       "China               1\n",
       "Chile               1\n",
       "France              1\n",
       "Russia              1\n",
       "Italy               1\n",
       "Georgia             1\n",
       "Name: origin, dtype: int64"
      ]
     },
     "execution_count": 32,
     "metadata": {},
     "output_type": "execute_result"
    }
   ],
   "source": [
    "spike_df[\"origin\"].value_counts()"
   ]
  },
  {
   "cell_type": "code",
   "execution_count": 33,
   "id": "b5187957-765f-481e-a29a-81e573d28d3f",
   "metadata": {},
   "outputs": [],
   "source": [
    "list_austr = list(spike_df.index[spike_df[\"origin\"] == \"Australia\"])"
   ]
  },
  {
   "cell_type": "code",
   "execution_count": 34,
   "id": "0efac7e9-6a66-4eae-8e77-87a64e0f5739",
   "metadata": {},
   "outputs": [],
   "source": [
    "aus_t = tree_root\n",
    "aus_t.prune(list_austr)"
   ]
  },
  {
   "cell_type": "code",
   "execution_count": 35,
   "id": "d2344010-4ac3-4ed4-b6a9-892b693f155d",
   "metadata": {},
   "outputs": [],
   "source": [
    "a = aus_t.render(\"austr_tree.png\", dpi = 600)"
   ]
  },
  {
   "cell_type": "markdown",
   "id": "80d733bd-cbbb-4ff0-971c-203d0f8dd9e1",
   "metadata": {},
   "source": [
    "![Australian tree](austr_tree.png)"
   ]
  },
  {
   "cell_type": "markdown",
   "id": "0d8f0181-4145-4cdf-b16c-7389a742e35f",
   "metadata": {},
   "source": [
    "On peut également afficher un titre, et représenter l'arbre de façon circulaire si l'envie nous prend : "
   ]
  },
  {
   "cell_type": "code",
   "execution_count": 36,
   "id": "bff80326-5823-4122-89ff-5f0781bff00f",
   "metadata": {},
   "outputs": [],
   "source": [
    "aus_ts = TreeStyle()\n",
    "aus_ts.show_leaf_name = False\n",
    "aus_ts.title.add_face(TextFace(\"Arbre Australien\", fsize=20), column=0)\n",
    "aus_ts.mode = \"c\"\n",
    "aus_ts.arc_start = -180\n",
    "aus_ts.arc_span = 180\n",
    "a = aus_t.render(\"aus_tree_circ.png\", dpi = 200, tree_style = aus_ts)"
   ]
  },
  {
   "cell_type": "markdown",
   "id": "c6c34f33-5590-4f98-8260-ce1b6d8ae4fa",
   "metadata": {},
   "source": [
    "![Circular tree](aus_tree_circ.png)"
   ]
  },
  {
   "cell_type": "markdown",
   "id": "2c751b20-e84d-47f4-9d23-ff33ea542c53",
   "metadata": {},
   "source": [
    "Dans les deux représentations, nous pouvons observe que la majorité des séquences sont très proches, même si 8 d'entre elles sont nettement plus loin.\n",
    "Une des choses les plus intéressante serait de pouvoir distinguer nos feuilles par date. Tout d'abord, il est intéressant d'étudier la distribution des dates dans nos 21 séquences."
   ]
  },
  {
   "cell_type": "code",
   "execution_count": 37,
   "id": "955e2c24-9d5f-473e-b18c-19204bf2a06b",
   "metadata": {},
   "outputs": [
    {
     "data": {
      "text/plain": [
       "count                               21\n",
       "mean     2020-05-24 02:17:08.571428608\n",
       "min                2020-03-19 00:00:00\n",
       "25%                2020-03-31 00:00:00\n",
       "50%                2020-06-12 00:00:00\n",
       "75%                2020-07-05 00:00:00\n",
       "max                2020-08-20 00:00:00\n",
       "Name: date, dtype: object"
      ]
     },
     "execution_count": 37,
     "metadata": {},
     "output_type": "execute_result"
    }
   ],
   "source": [
    "spike_df[spike_df[\"origin\"] == \"Australia\"][\"date\"].describe(datetime_is_numeric = True)"
   ]
  },
  {
   "cell_type": "markdown",
   "id": "222352e0-c00f-43b5-85dc-d1a5a614be06",
   "metadata": {},
   "source": [
    "Nous pouvons observer que les protéines spike du virus ont tous été séquencés entre mars et août 2020, et que 5 d'entre elles l'ont été en mars 2020. Nous pouvons essayer de représenter cette distribution en représentant la distribution cumulée des dates : "
   ]
  },
  {
   "cell_type": "code",
   "execution_count": 38,
   "id": "40923a57-d947-48dc-8235-0f85363650b1",
   "metadata": {},
   "outputs": [
    {
     "data": {
      "image/png": "[encoded data removed]",
      "text/plain": [
       "<Figure size 432x288 with 1 Axes>"
      ]
     },
     "metadata": {
      "needs_background": "light"
     },
     "output_type": "display_data"
    }
   ],
   "source": [
    "x = np.sort(spike_df[spike_df[\"origin\"] == \"Australia\"][\"date\"])\n",
    "y = np.linspace(0, 1, len(x))\n",
    "plt.plot(x, y)\n",
    "plt.savefig(\"cdf.png\")"
   ]
  },
  {
   "cell_type": "markdown",
   "id": "e9d9a0d7-baaa-456b-852d-1dd10043208e",
   "metadata": {},
   "source": [
    "Mais il serait plus intéressant d'afficher directement sur l'arbre ces différentes dates : "
   ]
  },
  {
   "cell_type": "code",
   "execution_count": 39,
   "id": "7bd2dbcd-d095-446d-bb1c-5cf004169d31",
   "metadata": {},
   "outputs": [],
   "source": [
    "date_med = spike_df[spike_df[\"origin\"] == \"Australia\"][\"date\"].quantile(0.5, interpolation = \"midpoint\")\n",
    "# Une manière d'itérer sur les feuilles :\n",
    "for leaf in aus_t.iter_leaves():\n",
    "    # Ajouter la date à chaque feuille\n",
    "    leaf.add_face(TextFace(str(spike_df.loc[leaf.name, \"date\"]).split()[0]), column = 0)\n",
    "    # colorer par date\n",
    "    leaf_style = NodeStyle()\n",
    "    if spike_df.loc[leaf.name, \"date\"] <= date_med:\n",
    "        leaf_style[\"bgcolor\"] = \"#ffbfbf\"\n",
    "    else:\n",
    "        leaf_style[\"bgcolor\"] = \"#bfbfff\"\n",
    "    leaf.set_style(leaf_style)"
   ]
  },
  {
   "cell_type": "code",
   "execution_count": 40,
   "id": "da72f978-7a8b-42bd-a875-1b7dff2f2ca1",
   "metadata": {},
   "outputs": [],
   "source": [
    "a = aus_t.render(\"aus_tree_date.png\", dpi = 600)\n",
    "del a "
   ]
  },
  {
   "cell_type": "markdown",
   "id": "f45dbe12-891b-44df-bf50-5cf12c34ec22",
   "metadata": {},
   "source": [
    "![Arbre](aus_tree_date.png)"
   ]
  },
  {
   "cell_type": "markdown",
   "id": "e8537aef-d145-4a7e-9199-357948372776",
   "metadata": {},
   "source": [
    "Les regroupements visibles dans l'arbre semblent en partie correspondre à la date de séquençage. En effet, les deux groupes qui se dessinent contiennent tous deux des séquences de mars 2020. Il semble y en avoir un peu plus dans le groupe le plus détaché, malgré tout. En outre, le groupe le plus détaché possède une seule séquence de la seconde moitié de notre échantillon."
   ]
  },
  {
   "cell_type": "code",
   "execution_count": null,
   "id": "a9d26c23-4b22-4c75-bfde-05e9e6dd4335",
   "metadata": {},
   "outputs": [],
   "source": []
  }
 ],
 "metadata": {
  "kernelspec": {
   "display_name": "Python 3 (ipykernel)",
   "language": "python",
   "name": "python3"
  },
  "language_info": {
   "codemirror_mode": {
    "name": "ipython",
    "version": 3
   },
   "file_extension": ".py",
   "mimetype": "text/x-python",
   "name": "python",
   "nbconvert_exporter": "python",
   "pygments_lexer": "ipython3",
   "version": "3.9.5"
  }
 },
 "nbformat": 4,
 "nbformat_minor": 5
}
