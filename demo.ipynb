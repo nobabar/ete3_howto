{
 "cells": [
  {
   "cell_type": "markdown",
   "id": "056ec703-383f-4bdc-8495-c5e5e8adaa7f",
   "metadata": {},
   "source": [
    "Chargement des modules nécessaires"
   ]
  },
  {
   "cell_type": "code",
   "execution_count": 1,
   "id": "a056d411-feb3-42d2-8b92-525260a41ec4",
   "metadata": {},
   "outputs": [],
   "source": [
    "import matplotlib.pyplot as plt\n",
    "import numpy as np\n",
    "import pandas as pd\n",
    "from ete3 import PhyloTree, TreeStyle, NodeStyle, TextFace"
   ]
  },
  {
   "cell_type": "markdown",
   "id": "0d45bb09-f7dd-41fc-a000-f362d4184b6e",
   "metadata": {},
   "source": [
    "## ETL \n",
    "Création des données supplémentaire"
   ]
  },
  {
   "cell_type": "code",
   "execution_count": 2,
   "id": "f39f9bfa-61ca-4666-bce3-5aa4cc393215",
   "metadata": {},
   "outputs": [],
   "source": [
    "!cat ./data/spike_data_708.fasta | grep \">\" | sed \"s/>//\" > ./data/spike_header_cl.txt "
   ]
  },
  {
   "cell_type": "code",
   "execution_count": 3,
   "id": "34b38035-eefd-4379-91c3-cd2dcd36d480",
   "metadata": {},
   "outputs": [
    {
     "name": "stdout",
     "output_type": "stream",
     "text": [
      "QYV93424.1 surface glycoprotein [Severe acute respiratory syndrome coronavirus 2] | country \"USA\" | 2021-07-19\n",
      "QYO33317.1 surface glycoprotein [Severe acute respiratory syndrome coronavirus 2] | country \"USA\" | 2021-07-26\n",
      "QZM58781.1 surface glycoprotein [Severe acute respiratory syndrome coronavirus 2] | country \"USA\" | 2021-08-03\n",
      "QZE52792.1 surface glycoprotein [Severe acute respiratory syndrome coronavirus 2] | country \"USA\" | 2021-08-02\n",
      "QYP84224.1 surface glycoprotein [Severe acute respiratory syndrome coronavirus 2] | country \"USA\" | 2021-07-14\n"
     ]
    }
   ],
   "source": [
    "!head -n 5 ./data/spike_header_cl.txt"
   ]
  },
  {
   "cell_type": "markdown",
   "id": "1918528c-4c2d-433f-958b-9d2a4fa08d29",
   "metadata": {},
   "source": [
    "Importation des données supplémentaires"
   ]
  },
  {
   "cell_type": "code",
   "execution_count": 4,
   "id": "f2d90e57-b3e7-4356-a7ed-89e675a99452",
   "metadata": {},
   "outputs": [
    {
     "data": {
      "text/html": [
       "<div>\n",
       "<style scoped>\n",
       "    .dataframe tbody tr th:only-of-type {\n",
       "        vertical-align: middle;\n",
       "    }\n",
       "\n",
       "    .dataframe tbody tr th {\n",
       "        vertical-align: top;\n",
       "    }\n",
       "\n",
       "    .dataframe thead th {\n",
       "        text-align: right;\n",
       "    }\n",
       "</style>\n",
       "<table border=\"1\" class=\"dataframe\">\n",
       "  <thead>\n",
       "    <tr style=\"text-align: right;\">\n",
       "      <th></th>\n",
       "      <th>name</th>\n",
       "      <th>origin</th>\n",
       "      <th>date</th>\n",
       "    </tr>\n",
       "    <tr>\n",
       "      <th>name</th>\n",
       "      <th></th>\n",
       "      <th></th>\n",
       "      <th></th>\n",
       "    </tr>\n",
       "  </thead>\n",
       "  <tbody>\n",
       "    <tr>\n",
       "      <th>QYV93424.1</th>\n",
       "      <td>QYV93424.1</td>\n",
       "      <td>USA</td>\n",
       "      <td>2021-07-19</td>\n",
       "    </tr>\n",
       "    <tr>\n",
       "      <th>QYO33317.1</th>\n",
       "      <td>QYO33317.1</td>\n",
       "      <td>USA</td>\n",
       "      <td>2021-07-26</td>\n",
       "    </tr>\n",
       "    <tr>\n",
       "      <th>QZM58781.1</th>\n",
       "      <td>QZM58781.1</td>\n",
       "      <td>USA</td>\n",
       "      <td>2021-08-03</td>\n",
       "    </tr>\n",
       "    <tr>\n",
       "      <th>QZE52792.1</th>\n",
       "      <td>QZE52792.1</td>\n",
       "      <td>USA</td>\n",
       "      <td>2021-08-02</td>\n",
       "    </tr>\n",
       "    <tr>\n",
       "      <th>QYP84224.1</th>\n",
       "      <td>QYP84224.1</td>\n",
       "      <td>USA</td>\n",
       "      <td>2021-07-14</td>\n",
       "    </tr>\n",
       "  </tbody>\n",
       "</table>\n",
       "</div>"
      ],
      "text/plain": [
       "                  name origin       date\n",
       "name                                    \n",
       "QYV93424.1  QYV93424.1    USA 2021-07-19\n",
       "QYO33317.1  QYO33317.1    USA 2021-07-26\n",
       "QZM58781.1  QZM58781.1    USA 2021-08-03\n",
       "QZE52792.1  QZE52792.1    USA 2021-08-02\n",
       "QYP84224.1  QYP84224.1    USA 2021-07-14"
      ]
     },
     "execution_count": 4,
     "metadata": {},
     "output_type": "execute_result"
    }
   ],
   "source": [
    "prot_names = []\n",
    "prot_dates = []\n",
    "prot_origin = []\n",
    "\n",
    "with open(\"./data/spike_header_cl.txt\", \"r\", encoding=\"utf8\") as filein:\n",
    "    for ligne in filein:\n",
    "        l_spl = ligne.split(\"|\")\n",
    "        prot_names.append(l_spl[0].split()[0])\n",
    "        prot_origin.append(l_spl[1].split('\"')[1])\n",
    "        prot_dates.append(l_spl[2])\n",
    "\n",
    "# organiser as dataframe\n",
    "spike_df = pd.DataFrame(data={\"name\": prot_names,\n",
    "                              \"origin\": prot_origin,\n",
    "                              \"date\": prot_dates})\n",
    "spike_df[\"date\"] = pd.to_datetime(spike_df[\"date\"])\n",
    "spike_df.index = spike_df[\"name\"]\n",
    "spike_df.head()"
   ]
  },
  {
   "cell_type": "markdown",
   "id": "b2f41959-b21e-4107-bf74-d3d257bdd1cf",
   "metadata": {},
   "source": [
    "Importation des données de l'arbre (comment on a fait)"
   ]
  },
  {
   "cell_type": "code",
   "execution_count": 5,
   "id": "96528daf-f137-4a38-b022-2d4c257e2f6b",
   "metadata": {},
   "outputs": [],
   "source": [
    "tree_root = PhyloTree(newick=\"./data/nj_tree.nwk\", format=1)"
   ]
  },
  {
   "cell_type": "markdown",
   "id": "1c6260eb-7f64-4c6e-a128-561f3218ada0",
   "metadata": {},
   "source": [
    "## Exploration du jeu de données"
   ]
  },
  {
   "cell_type": "markdown",
   "id": "ee08a64b-17a3-4cd3-8015-008c025c5a59",
   "metadata": {},
   "source": [
    "### Exploration de l'arbre"
   ]
  },
  {
   "cell_type": "code",
   "execution_count": 6,
   "id": "ffaff7cb-46b0-4617-8d8c-71b275f998f2",
   "metadata": {},
   "outputs": [
    {
     "name": "stdout",
     "output_type": "stream",
     "text": [
      "La distance à la plus proche feuille QZW38759.1 est : -7.004623660614162e-17\n",
      "Son origine est USA, sa date de séquençage est le 2021-08-25 00:00:00\n",
      "La distance à la plus lointaine feuille QRW61256.1 est : 0.7725499999999998\n",
      "Son origine est USA, sa date de séquençage est le 2020-12-24 00:00:00\n"
     ]
    }
   ],
   "source": [
    "leaf_clo, dist_to_leaf = tree_root.get_closest_leaf()\n",
    "print(f\"La distance à la plus proche feuille {leaf_clo.name} est :\"\n",
    "      f\" {dist_to_leaf}\\n\"\n",
    "      f\"Son origine est {spike_df.loc[leaf_clo.name]['origin']}, \"\n",
    "      f\"sa date de séquençage est le {spike_df.loc[leaf_clo.name]['date']}\")\n",
    "leaf_far, dist_to_leaf_far = tree_root.get_farthest_leaf()\n",
    "print(f\"La distance à la plus lointaine feuille {leaf_far.name} est\"\n",
    "      f\" : {dist_to_leaf_far}\\n\"\n",
    "      f\"Son origine est {spike_df.loc[leaf_far.name]['origin']},\"\n",
    "      f\" sa date de séquençage est le {spike_df.loc[leaf_far.name]['date']}\")"
   ]
  },
  {
   "cell_type": "markdown",
   "id": "3768f3bd-e80c-4d42-810c-9d73d7738f55",
   "metadata": {},
   "source": [
    "### Exploration du jeu de séquences"
   ]
  },
  {
   "cell_type": "code",
   "execution_count": 7,
   "id": "e649e0b1-0a09-4fc6-8d66-19241931ba84",
   "metadata": {},
   "outputs": [
    {
     "name": "stdout",
     "output_type": "stream",
     "text": [
      "Notre dataset possède 708 séquences, que nous avons organisées en arbre.\n",
      "Les pays d'origine de ces séquences sont Georgia, Ghana, Saudi Arabia, Germany, Lebanon, United Kingdom, Spain, USA, Thailand, Egypt, China, India, Chile, Australia, Italy, France, Bangladesh, Russia, mais la représentation n'est pas équilibrée entre ces différents pays\n"
     ]
    }
   ],
   "source": [
    "print(f\"Notre dataset possède {spike_df.shape[0]} séquences, que nous avons\"\n",
    "      \" organisées en arbre.\\n\"\n",
    "      \"Les pays d'origine de ces séquences \"\n",
    "      f\"sont {', '.join(set(spike_df['origin']))},\"\n",
    "      \" mais la représentation n'est pas équilibrée \"\n",
    "      \"entre ces différents pays\")"
   ]
  },
  {
   "cell_type": "code",
   "execution_count": 8,
   "id": "90f135e6-9323-41c5-a54a-f134cda6a569",
   "metadata": {},
   "outputs": [
    {
     "data": {
      "text/plain": [
       "USA               651\n",
       "Australia          21\n",
       "India               9\n",
       "Bangladesh          5\n",
       "Egypt               4\n",
       "Saudi Arabia        3\n",
       "Spain               2\n",
       "Germany             2\n",
       "United Kingdom      2\n",
       "Ghana               1\n",
       "Lebanon             1\n",
       "Thailand            1\n",
       "China               1\n",
       "Chile               1\n",
       "France              1\n",
       "Russia              1\n",
       "Italy               1\n",
       "Georgia             1\n",
       "Name: origin, dtype: int64"
      ]
     },
     "execution_count": 8,
     "metadata": {},
     "output_type": "execute_result"
    }
   ],
   "source": [
    "spike_df[\"origin\"].value_counts()"
   ]
  },
  {
   "cell_type": "markdown",
   "id": "96c2245b-94d3-4730-8ba6-2e6805509473",
   "metadata": {},
   "source": [
    "## Cas d'étude : Australie\n",
    "\n",
    "Etant donné le grand nombre de séquences dans nos données, afin de démontrer les capacités d'exploration et d'analyse des arbres, nous allons étudier un sous ensemble de nos données : les séquences provenant d'Australie. Nous allons obtenir un arbre de deux façons : la première en élaguant notre arbre (pruning), et la seconde en reconstruisant un arbre uniquement à partir des séquences australiennes.\n",
    "\n",
    "### Pruning"
   ]
  },
  {
   "cell_type": "code",
   "execution_count": 9,
   "id": "b5187957-765f-481e-a29a-81e573d28d3f",
   "metadata": {},
   "outputs": [],
   "source": [
    "list_austr = list(spike_df.index[spike_df[\"origin\"] == \"Australia\"])"
   ]
  },
  {
   "cell_type": "code",
   "execution_count": 10,
   "id": "0efac7e9-6a66-4eae-8e77-87a64e0f5739",
   "metadata": {},
   "outputs": [],
   "source": [
    "aus_t = tree_root\n",
    "aus_t.prune(list_austr)"
   ]
  },
  {
   "cell_type": "code",
   "execution_count": 11,
   "id": "d2344010-4ac3-4ed4-b6a9-892b693f155d",
   "metadata": {},
   "outputs": [],
   "source": [
    "_ = aus_t.render(\"./img/austr_tree.png\", dpi=600)"
   ]
  },
  {
   "cell_type": "markdown",
   "id": "80d733bd-cbbb-4ff0-971c-203d0f8dd9e1",
   "metadata": {},
   "source": [
    "![Australian tree](./img/austr_tree.png)"
   ]
  },
  {
   "cell_type": "markdown",
   "id": "0d8f0181-4145-4cdf-b16c-7389a742e35f",
   "metadata": {},
   "source": [
    "On peut également afficher un titre, et représenter l'arbre de façon circulaire si l'envie nous prend : "
   ]
  },
  {
   "cell_type": "code",
   "execution_count": 12,
   "id": "bff80326-5823-4122-89ff-5f0781bff00f",
   "metadata": {},
   "outputs": [],
   "source": [
    "aus_ts = TreeStyle()\n",
    "aus_ts.show_leaf_name = False\n",
    "aus_ts.title.add_face(TextFace(\"Arbre Australien\", fsize=20), column=0)\n",
    "aus_ts.mode = \"c\"\n",
    "aus_ts.arc_start = -180\n",
    "aus_ts.arc_span = 180\n",
    "a = aus_t.render(\"./img/aus_tree_circ.png\", dpi=200, tree_style=aus_ts)"
   ]
  },
  {
   "cell_type": "markdown",
   "id": "c6c34f33-5590-4f98-8260-ce1b6d8ae4fa",
   "metadata": {},
   "source": [
    "![Circular tree](./img/aus_tree_circ.png)"
   ]
  },
  {
   "cell_type": "markdown",
   "id": "2c751b20-e84d-47f4-9d23-ff33ea542c53",
   "metadata": {},
   "source": [
    "Dans les deux représentations, nous pouvons observe que la majorité des séquences sont très proches, même si 8 d'entre elles sont nettement plus loin.\n",
    "Une des choses les plus intéressante serait de pouvoir distinguer nos feuilles par date. Tout d'abord, il est intéressant d'étudier la distribution des dates dans nos 21 séquences."
   ]
  },
  {
   "cell_type": "code",
   "execution_count": 13,
   "id": "955e2c24-9d5f-473e-b18c-19204bf2a06b",
   "metadata": {},
   "outputs": [
    {
     "data": {
      "text/plain": [
       "count                               21\n",
       "mean     2020-05-24 02:17:08.571428608\n",
       "min                2020-03-19 00:00:00\n",
       "25%                2020-03-31 00:00:00\n",
       "50%                2020-06-12 00:00:00\n",
       "75%                2020-07-05 00:00:00\n",
       "max                2020-08-20 00:00:00\n",
       "Name: date, dtype: object"
      ]
     },
     "execution_count": 13,
     "metadata": {},
     "output_type": "execute_result"
    }
   ],
   "source": [
    "spike_df[spike_df[\"origin\"] == \"Australia\"][\"date\"]\\\n",
    "        .describe(datetime_is_numeric=True)"
   ]
  },
  {
   "cell_type": "markdown",
   "id": "222352e0-c00f-43b5-85dc-d1a5a614be06",
   "metadata": {},
   "source": [
    "Nous pouvons observer que les protéines spike du virus ont tous été séquencés entre mars et août 2020, et que 5 d'entre elles l'ont été en mars 2020. Nous pouvons essayer de représenter cette distribution en représentant la distribution cumulée des dates : "
   ]
  },
  {
   "cell_type": "code",
   "execution_count": 14,
   "id": "40923a57-d947-48dc-8235-0f85363650b1",
   "metadata": {},
   "outputs": [
    {
     "data": {
      "image/png": "[encoded data removed]",
      "text/plain": [
       "<Figure size 432x288 with 1 Axes>"
      ]
     },
     "metadata": {
      "needs_background": "light"
     },
     "output_type": "display_data"
    }
   ],
   "source": [
    "x = np.sort(spike_df[spike_df[\"origin\"] == \"Australia\"][\"date\"])\n",
    "y = np.linspace(0, 1, len(x))\n",
    "plt.plot(x, y)\n",
    "plt.title(\"Distribution cumulative des dates de séquençages des séquences australiennes\")\n",
    "plt.savefig(\"cdf.png\")"
   ]
  },
  {
   "cell_type": "markdown",
   "id": "e9d9a0d7-baaa-456b-852d-1dd10043208e",
   "metadata": {},
   "source": [
    "Mais il serait plus intéressant d'afficher directement sur l'arbre ces différentes dates : "
   ]
  },
  {
   "cell_type": "code",
   "execution_count": 15,
   "id": "7bd2dbcd-d095-446d-bb1c-5cf004169d31",
   "metadata": {},
   "outputs": [],
   "source": [
    "def color_by_date_med(tree, date_med, sequence_df):\n",
    "    \"\"\"Update the graphical caracteristics of an ete tree for a median date.\n",
    "\n",
    "    Parameters\n",
    "    ----------\n",
    "    tree : TreeNode\n",
    "        The tree to be modified\n",
    "    date_med : datetime\n",
    "        The median date to color with\n",
    "    sequence_df : dataframe\n",
    "        The dataframe containing date information\n",
    "\n",
    "        Colors leaves of an ete tree depending on their position\n",
    "        in relation to the median date : red before, blue after\n",
    "    \"\"\"\n",
    "    for leaf in tree.iter_leaves():\n",
    "        leaf.add_face(TextFace(str(sequence_df.loc[leaf.name, \"date\"])\n",
    "                                .split()[0]), column=0)\n",
    "        leaf_style = NodeStyle()\n",
    "        if sequence_df.loc[leaf.name, \"date\"] <= date_med:\n",
    "            leaf_style[\"bgcolor\"] = \"#ffbfbf\"\n",
    "        else:\n",
    "            leaf_style[\"bgcolor\"] = \"#bfbfff\"\n",
    "        leaf.set_style(leaf_style)\n",
    "\n",
    "\n",
    "date_med_aus = spike_df[spike_df[\"origin\"] == \"Australia\"]\\\n",
    "                        [\"date\"].quantile(0.5)\n",
    "color_by_date_med(aus_t, date_med_aus, spike_df)"
   ]
  },
  {
   "cell_type": "code",
   "execution_count": 16,
   "id": "da72f978-7a8b-42bd-a875-1b7dff2f2ca1",
   "metadata": {},
   "outputs": [],
   "source": [
    "_ = aus_t.render(\"./img/aus_tree_date.png\", dpi=600)"
   ]
  },
  {
   "cell_type": "markdown",
   "id": "f45dbe12-891b-44df-bf50-5cf12c34ec22",
   "metadata": {},
   "source": [
    "![Arbre](./img/aus_tree_date.png)"
   ]
  },
  {
   "cell_type": "markdown",
   "id": "e8537aef-d145-4a7e-9199-357948372776",
   "metadata": {},
   "source": [
    "Les regroupements visibles dans l'arbre semblent en partie correspondre à la date de séquençage. En effet, les deux groupes qui se dessinent contiennent tous deux des séquences de mars 2020. Il semble y en avoir un peu plus dans le groupe le plus détaché, malgré tout. En outre, le groupe le plus détaché possède une seule séquence de la seconde moitié de notre échantillon.\n",
    "\n",
    "### Nouvel arbre\n",
    "Grâce à notre script d'alignement, nous pouvons générer un arbre uniquement pour les séquences australiennes. Nous chargeons ensuite le résultat ici."
   ]
  },
  {
   "cell_type": "code",
   "execution_count": 17,
   "id": "a9662314-1e23-48c0-bd07-7a0c7f471e09",
   "metadata": {},
   "outputs": [],
   "source": [
    "aus_t_new = PhyloTree(newick=\"./data/nj_tree_Australia.nwk\", format=1)"
   ]
  },
  {
   "cell_type": "markdown",
   "id": "aa8a3569-f21b-4257-902d-af2f47f0870f",
   "metadata": {},
   "source": [
    "Nous pouvons alors représenter l'arbre de la même façon que précédemment, afin de jauger graphiquement les ressemblances entre les deux arbres."
   ]
  },
  {
   "cell_type": "code",
   "execution_count": 18,
   "id": "a0bfa316-3378-4036-8153-922a39d41a3b",
   "metadata": {},
   "outputs": [],
   "source": [
    "color_by_date_med(aus_t_new, date_med_aus, spike_df)\n",
    "_ = aus_t_new.render(\"./img/aus_tree_new_date.png\", dpi=300)"
   ]
  },
  {
   "cell_type": "markdown",
   "id": "d1ee3d0d-4c33-4b5b-889b-93a53ef8b884",
   "metadata": {},
   "source": [
    "![Arbre des séquences australiennes, recalculé depuis les séquences](./img/aus_tree_new_date.png)"
   ]
  },
  {
   "cell_type": "markdown",
   "id": "a7b9e582-c0ab-4ba0-8164-532e5065858e",
   "metadata": {},
   "source": [
    "On observe un résultat sensiblement différent, au premier abord. Cependant, si l'on regarde de plus près, les séquences à une distance plus importante sont exactement les mêmes que dans l'arbre précédent. Nous pouvons donc penser que cet arbre a plus en commun avec le précédent qu'au premier regard. Mais comment en être certain?\n",
    "\n",
    "La distance de Robinson-Foulds est une manière relativement simple de comparer deux arbres : fondamentalement, elle compare le nombre de partition des données du premier arbre non contenu dans le second, et inversement, et somme ces deux valeurs. Plus cette distance est élevée, plus ces deux arbres sont dissimilaires. "
   ]
  },
  {
   "cell_type": "code",
   "execution_count": 19,
   "id": "f8a34f5c-2a09-412f-80ea-f169b87ca569",
   "metadata": {},
   "outputs": [],
   "source": [
    "aus_t.unroot()\n",
    "results = aus_t.compare(aus_t_new, unrooted=True)"
   ]
  },
  {
   "cell_type": "code",
   "execution_count": 20,
   "id": "ed769b64-81bc-4355-a718-8f9140f23f1a",
   "metadata": {},
   "outputs": [
    {
     "data": {
      "text/plain": [
       "0.5555555555555556"
      ]
     },
     "execution_count": 20,
     "metadata": {},
     "output_type": "execute_result"
    }
   ],
   "source": [
    "results[\"norm_rf\"]"
   ]
  },
  {
   "cell_type": "markdown",
   "id": "ea33cd68-8404-4d92-b618-570954d22d8c",
   "metadata": {},
   "source": [
    "On observe un distance plutôt importante : cependant, nous pouvons supposer que ceci est lié au fait que nombre de séquences qui le compose sont proches les unes des autres, et que le seul le sous groupe le plus éloigné est conservé entre deux. "
   ]
  },
  {
   "cell_type": "markdown",
   "id": "b849739d-ee34-479b-b9ac-b0442b45b9a1",
   "metadata": {},
   "source": [
    "## Cas d'étude : les séquences les plus anciennes\n",
    "Comme précédemment, nous utilisons notre dataframe pour récupérer une liste des séquences les plus anciennes de notre dataset. Nous allons ensuite y adjoindre la séquence référence du SARS-COV1 : cela nous permettra de démontrer les capacités d'enracinement d'ETE."
   ]
  },
  {
   "cell_type": "code",
   "execution_count": 21,
   "id": "afa4ecba-f095-481f-8b6a-91f7b25549eb",
   "metadata": {},
   "outputs": [],
   "source": [
    "old_seq_t = PhyloTree(newick=\"./data/nj_tree_outgroup.nwk\", format=1)"
   ]
  },
  {
   "cell_type": "code",
   "execution_count": 22,
   "id": "094876e0-abbb-45d2-997c-51e50be61f4d",
   "metadata": {},
   "outputs": [],
   "source": [
    "COV1 = \"SARS_COV1\"\n",
    "for leaf in old_seq_t.iter_leaves():\n",
    "    if leaf.name == COV1:\n",
    "        leaf_style = NodeStyle()\n",
    "        leaf_style[\"fgcolor\"] = \"#00c91b\"\n",
    "        leaf_style[\"bgcolor\"] = \"#788079\"\n",
    "        leaf_style[\"size\"] = 7\n",
    "        leaf.set_style(leaf_style)"
   ]
  },
  {
   "cell_type": "code",
   "execution_count": 23,
   "id": "f4ae065a-430d-4338-bb84-e7f03b7d70e1",
   "metadata": {},
   "outputs": [],
   "source": [
    "_ = old_seq_t.render(\"./img/old_t_unroot.png\", dpi=300)"
   ]
  },
  {
   "cell_type": "markdown",
   "id": "a2fa06e9-4311-4288-aa3e-993b2413de29",
   "metadata": {},
   "source": [
    "![Arbre non enraciné](./img/old_t_unroot.png)"
   ]
  },
  {
   "cell_type": "code",
   "execution_count": 24,
   "id": "cf39f00c-7df4-4f77-939c-677ea77a5012",
   "metadata": {},
   "outputs": [],
   "source": [
    "old_seq_t.set_outgroup(old_seq_t & \"SARS_COV1\")"
   ]
  },
  {
   "cell_type": "code",
   "execution_count": 25,
   "id": "9f3119e0-9f0a-4084-a583-7daedfff8b08",
   "metadata": {},
   "outputs": [],
   "source": [
    "_ = old_seq_t.render(\"./img/old_t_rooted.png\", dpi=300)"
   ]
  },
  {
   "cell_type": "markdown",
   "id": "f799cb6f-047d-4634-a1a5-23785dbb738a",
   "metadata": {},
   "source": [
    "![Arbre des séquences anciennes, enraciné](../img/old_t_rooted.png)"
   ]
  }
 ],
 "metadata": {
  "kernelspec": {
   "display_name": "Python 3 (ipykernel)",
   "language": "python",
   "name": "python3"
  },
  "language_info": {
   "codemirror_mode": {
    "name": "ipython",
    "version": 3
   },
   "file_extension": ".py",
   "mimetype": "text/x-python",
   "name": "python",
   "nbconvert_exporter": "python",
   "pygments_lexer": "ipython3",
   "version": "3.9.7"
  }
 },
 "nbformat": 4,
 "nbformat_minor": 5
}
