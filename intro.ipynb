{
 "cells": [
  {
   "cell_type": "markdown",
   "id": "11f3a4a4-3de1-4e58-9eb9-876a93fdf5ee",
   "metadata": {},
   "source": [
    "NOTEBOOK - il contiendra une description du contexte, de l’objectif du projet et les premiers éléments de réponses aux questions posées dans le sujet."
   ]
  },
  {
   "cell_type": "markdown",
   "id": "a61390d4-bd5a-45c1-b567-18c21d10ed9a",
   "metadata": {},
   "source": [
    "Les arbres phylogénétiques sont vastement utilisés en biologiques et notamment en génétique. Ils sont constitués de branches se séparant en n&oelig;ud et se terminant en feuilles. Les arbres sont des examples de graphes orientés acycliques. C'est à dire qu'ils ont une direction et ne possède pas de circuit.\n",
    "\n",
    "Les arbres phylogénétiques sont utilisés pour representer des relations de parenté entres des êtres vivants ou des groupes d'êtres vivants. Chaque n&oelig;ud montrant l'ancêtre commun des différentes branches subsidiaires. La hauteur d'un n&oelig;ud est la longueure du plus grand chemin depuis une feuille jusqu'à ce n&oelig;ud. La profondeur d'un n&oelig;ud est la distance avec la racine.\n",
    "\n",
    "Ici nous utiliserons des arbres en format Newick (.nwk), c'est l'un des formats les plus couramment utilisé. Ces arbres contiennent l'information des n&oelig; de l'arbre, de leur hiérarchie ainsi que la distance de chacun avec son n&oelig; d'ordre supérieur dans un réseau de parenthèses imbriquées.\n",
    "\n",
    "ETE est une librairie python qui facilite la manipulation, analyse et visualisation d'arbres phylogénétiques. L'avantage d'ETE est qu'il ne fait aucune distinction entre un arbre et un n&oelig;ud. Les arbres pouvant être représentés à partir de leur racine, un n&oelig;ud peut donc devenir la racine d'un arbre. Il est donc très facile de partitionner ou de fusionner des arbres ETE.\n",
    "\n",
    "Cependant il existe des arbres phylogénétiques non enracinés, ce n'est pas un problème car ETE considerera le pointeur du n&oelig; ayant la plus grande hauteur comme la racine. Ainsi un arbre non enraciné sera un arbre dont la racine a plus que deux enfants."
   ]
  },
  {
   "cell_type": "code",
   "execution_count": 1,
   "id": "94021ad9-aab2-4f18-854e-f120c4ba496a",
   "metadata": {},
   "outputs": [
    {
     "name": "stderr",
     "output_type": "stream",
     "text": [
      "D:\\Software\\Miniconda\\lib\\site-packages\\ete3-3.1.2-py3.7.egg\\ete3\\evol\\parser\\codemlparser.py:221: SyntaxWarning: \"is\" with a literal. Did you mean \"==\"?\n",
      "D:\\Software\\Miniconda\\lib\\site-packages\\ete3-3.1.2-py3.7.egg\\ete3\\evol\\parser\\codemlparser.py:221: SyntaxWarning: \"is\" with a literal. Did you mean \"==\"?\n"
     ]
    },
    {
     "name": "stdout",
     "output_type": "stream",
     "text": [
      "\n",
      "   /-A\n",
      "  |\n",
      "--|--B\n",
      "  |\n",
      "  |   /-C\n",
      "   \\-|\n",
      "      \\-D\n"
     ]
    }
   ],
   "source": [
    "import ete3\n",
    "unrooted_tree = ete3.Tree( \"(A,B,(C,D));\" )\n",
    "print(unrooted_tree)"
   ]
  },
  {
   "cell_type": "code",
   "execution_count": 2,
   "id": "2a1ba857-af69-4b5d-b593-d4dcb7fc54de",
   "metadata": {},
   "outputs": [
    {
     "name": "stdout",
     "output_type": "stream",
     "text": [
      "\n",
      "      /-A\n",
      "   /-|\n",
      "  |   \\-B\n",
      "--|\n",
      "  |   /-C\n",
      "   \\-|\n",
      "      \\-D\n"
     ]
    }
   ],
   "source": [
    "rooted_tree = ete3.Tree( \"((A,B),(C,D));\" )\n",
    "print(rooted_tree)"
   ]
  },
  {
   "cell_type": "markdown",
   "id": "c52671a8-7386-4c8d-a502-0c8bc7ccf678",
   "metadata": {},
   "source": [
    "Vous pouvez voir que j'ai ici importé la librairie ETE grâce à `import ete3`. Pour l'installer vous pouvez utiliser l'outil de gestion des paquets de votre choix (conda, mamba ou bien pip)."
   ]
  },
  {
   "cell_type": "markdown",
   "id": "d07bed66-98e0-4ab4-ae00-ce02d18910d2",
   "metadata": {},
   "source": [
    "Concernant la génération des arbres phylogénétiques ETE propose une suite de toolkits donnant notamment accès à des commandes bash pour la génération d'arbres. Cependant leur installation est complexe et pose de nombreux problèmes de compatibilités, nous ne vous recommandons donc pas son utilisation. Si vous êtes toutefois interéssés par cela un guide rapide vous est proposé en fin de tuto.\n",
    "\n",
    "Nous remplacerons ces toolkits par le constructeur de la librairie Biopython. Vous trouverez dans les fichiers joints les modules `sequences_alignment.py` et `tree_generation.py` (vous pouvez utiliser `help(module)` pour voir leurs fonctionnement."
   ]
  },
  {
   "cell_type": "markdown",
   "id": "b3bf75f4-df9d-414e-9b7b-2a5757735b44",
   "metadata": {},
   "source": []
  }
 ],
 "metadata": {
  "kernelspec": {
   "display_name": "Python 3 (ipykernel)",
   "language": "python",
   "name": "python3"
  },
  "language_info": {
   "codemirror_mode": {
    "name": "ipython",
    "version": 3
   },
   "file_extension": ".py",
   "mimetype": "text/x-python",
   "name": "python",
   "nbconvert_exporter": "python",
   "pygments_lexer": "ipython3",
   "version": "3.9.5"
  }
 },
 "nbformat": 4,
 "nbformat_minor": 5
}
