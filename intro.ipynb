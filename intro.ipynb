{
 "cells": [
  {
   "cell_type": "markdown",
   "id": "a61390d4-bd5a-45c1-b567-18c21d10ed9a",
   "metadata": {
    "tags": []
   },
   "source": [
    "# Les arbres\n",
    "\n",
    "Les arbres sont des structures non linéaire qui traduisent une organisation hiérarchique (bases de données, systèmes de fichiers, site web,\n",
    "analyse syntaxique etc). Les arbres sont largement utilisés en biologie et notamment en génétique avec les arbres phylogénétiques. Ils sont constitués de branches se séparant en n&oelig;ud et se terminant en feuilles. En théorie des graphes les arbres sont des examples de graphes orientés acycliques. C'est à dire qu'ils ont une direction et ne possède pas de circuit.\n",
    "\n",
    "Les arbres phylogénétiques sont utilisés pour représenter des relations de parenté entres des êtres vivants ou des groupes d'êtres vivants. Chaque n&oelig;ud montrant l'ancêtre commun des différentes branches subsidiaires. De part leurs propriétés, les arbres phylogénétiques ne peuvent prendre en compte les tansferts horizontaux ou hybridations.\n",
    "\n",
    "Ici nous utiliserons des arbres en format Newick (.nwk), c'est l'un des formats les plus couramment utilisé. Ces arbres contiennent l'information des n&oelig;ud de l'arbre, de leur hiérarchie ainsi que la distance de chacun avec son n&oelig;ud d'ordre supérieur dans un réseau de parenthèses imbriquées.\n",
    "\n",
    "La hauteur d'un n&oelig;ud est la longueur du plus grand chemin depuis une feuille jusqu'à ce n&oelig;ud. La profondeur d'un n&oelig;ud est la distance avec la racine. L'arité d'un noeud et le nombre de branches successeures qu'il a, l'arité d'un arbre est l'arité maximale de ses noeuds.\n",
    "\n",
    "<center>\n",
    "<img src=\"tree_example.svg\">\n",
    "<center>"
   ]
  },
  {
   "cell_type": "markdown",
   "id": "6430ff8e-6a1c-40b3-b4b9-0e834122c3f5",
   "metadata": {
    "tags": []
   },
   "source": [
    "# La librairie ETE\n",
    "\n",
    "[ETE](http://etetoolkit.org) est une librairie python qui facilite la manipulation, analyse et visualisation d'arbres phylogénétiques. Elle permet la manipulation et l'annotation d'arbres particulièrement complexes.\n",
    "\n",
    "<center>\n",
    "<img src=\"https://raw.githubusercontent.com/jhcepas/ete/master/sdoc/gallery.png\" width=\"60%\">\n",
    "<center>"
   ]
  },
  {
   "cell_type": "markdown",
   "id": "ae5de7ee-fc92-4122-91f6-57858f8befbb",
   "metadata": {},
   "source": [
    "L'avantage d'ETE est qu'il ne fait aucune distinction entre un arbre et un n&oelig;ud. Les arbres pouvant être représentés à partir de leur racine, un n&oelig;ud peut donc devenir la racine d'un arbre. Il est donc très facile de partitionner ou de fusionner des arbres.\n",
    "\n",
    "Il existe cependant des arbres phylogénétiques non enracinés mais ce n'est pas un problème car ETE considèrera le pointeur du n&oelig;ud ayant la plus grande hauteur comme la racine. Ainsi un arbre non enraciné sera un arbre dont la racine a plus que deux enfants."
   ]
  },
  {
   "cell_type": "code",
   "execution_count": 1,
   "id": "266bad28-7a21-4991-b8f6-5c5d7c4811db",
   "metadata": {},
   "outputs": [],
   "source": [
    "%%capture --no-stdout\n",
    "from ete3 import Tree"
   ]
  },
  {
   "cell_type": "code",
   "execution_count": 2,
   "id": "94021ad9-aab2-4f18-854e-f120c4ba496a",
   "metadata": {},
   "outputs": [
    {
     "name": "stdout",
     "output_type": "stream",
     "text": [
      "\n",
      "   /-A\n",
      "  |\n",
      "--|--B\n",
      "  |\n",
      "  |   /-C\n",
      "   \\-|\n",
      "      \\-D\n"
     ]
    }
   ],
   "source": [
    "unrooted_tree = Tree(\"(A,B,(C,D));\")\n",
    "print(unrooted_tree)"
   ]
  },
  {
   "cell_type": "code",
   "execution_count": 3,
   "id": "2a1ba857-af69-4b5d-b593-d4dcb7fc54de",
   "metadata": {},
   "outputs": [
    {
     "name": "stdout",
     "output_type": "stream",
     "text": [
      "\n",
      "      /-A\n",
      "   /-|\n",
      "  |   \\-B\n",
      "--|\n",
      "  |   /-C\n",
      "   \\-|\n",
      "      \\-D\n"
     ]
    }
   ],
   "source": [
    "rooted_tree = Tree(\"((A,B),(C,D));\")\n",
    "print(rooted_tree)"
   ]
  },
  {
   "cell_type": "markdown",
   "id": "c52671a8-7386-4c8d-a502-0c8bc7ccf678",
   "metadata": {},
   "source": [
    "Vous pouvez voir que j'ai ici importé la librairie ETE grâce à `import ete3`. Pour l'installer vous pouvez utiliser l'outil de gestion des paquets de votre choix (conda, mamba ou bien pip)."
   ]
  },
  {
   "cell_type": "markdown",
   "id": "d07bed66-98e0-4ab4-ae00-ce02d18910d2",
   "metadata": {},
   "source": [
    "Concernant la génération des arbres phylogénétiques ETE propose une suite d'external apps donnant notamment accès à des commandes bash pour la génération d'arbres. Cependant leur installation est complexe et pose de nombreux problèmes de compatibilité, nous ne vous recommandons donc pas son utilisation. Si vous êtes toutefois interéssés par cela un guide rapide vous est proposé en fin de tuto."
   ]
  },
  {
   "cell_type": "markdown",
   "id": "34dc4ed5-1bb9-41f9-9751-a3aea91d1188",
   "metadata": {
    "jp-MarkdownHeadingCollapsed": true,
    "tags": []
   },
   "source": [
    "# Nos modules\n",
    "\n",
    "Nous remplacerons les toolkits d'ETE des modules utilisant principalement la librairie [Biopython](https://biopython.org). Vous les trouverez dans les fichiers joints sous les noms de `sequences_alignment.py` et `tree_generation.py`."
   ]
  },
  {
   "cell_type": "markdown",
   "id": "9a2127cd-6ea8-4b35-bd60-c2aa093d6491",
   "metadata": {
    "tags": []
   },
   "source": [
    "## sequences_alignment\n",
    "\n",
    "Le premier module sert à faire de l'aligment multiple de séquences tout en gérer plusieurs cas possibles."
   ]
  },
  {
   "cell_type": "code",
   "execution_count": 4,
   "id": "b9183578-56be-4a49-935e-cabdbaf441d4",
   "metadata": {},
   "outputs": [
    {
     "name": "stdout",
     "output_type": "stream",
     "text": [
      "Help on module sequences_alignment:\n",
      "\n",
      "NAME\n",
      "    sequences_alignment - This module align a multi sequences fasta file.\n",
      "\n",
      "DESCRIPTION\n",
      "    ClustalW and Muscle algorithms are both supported for the alignment.\n",
      "\n",
      "FUNCTIONS\n",
      "    align_seq(in_dir, method='clustalw', out_file=False)\n",
      "        Align multiple sequences.\n",
      "        \n",
      "        Parameters\n",
      "        ----------\n",
      "        in_dir : str\n",
      "            The directory to the file containing the sequences.\n",
      "        method : str (default clustalw)\n",
      "            The alignment algorithm, either clustalw or muscle.\n",
      "        out_dir : boolean (default False)\n",
      "            Wether or not an output file should be generated.\n",
      "        \n",
      "        Returns\n",
      "        -------\n",
      "        Bio.Align.MultipleSeqAlignment\n",
      "            The aligned sequences.\n",
      "\n",
      "FILE\n",
      "    d:\\data\\fac\\master\\m1\\python\\ete_tuto\\sequences_alignment.py\n",
      "\n",
      "\n"
     ]
    }
   ],
   "source": [
    "import sequences_alignment\n",
    "help(sequences_alignment)"
   ]
  },
  {
   "cell_type": "markdown",
   "id": "29bf51a1-ad9d-4622-b1c7-a79ab148039f",
   "metadata": {
    "tags": []
   },
   "source": [
    "Cependant son fonctionnement peut se résummer à l'appel d'une command line bash.\n",
    "\n",
    "### Windows :\n",
    "\n",
    "Ce module est développé pour fonctionner sous les systèmes Unix, il vous est donc conseillé d'utiliser la commande line sous Windows.\n",
    "```Bash\n",
    "./clustalo.exe -i seq_in.fasta -o seq_out.fasta --force\n",
    "```\n",
    "Sous windows vous devez spécifier le chemin d'accès vers l'éxécutable du l'algorithme d'alignement, il vous faudra donc le télécharger si vous ne l'avez pas. Vous pouvez télécharger ces éxécutables depuis internet pour [Muscle](https://github.com/rcedgar/muscle/releases/tag/v5.0.1428) et [Clustalw](http://www.clustal.org/download/current/).\n",
    "\n",
    "### Linux :\n",
    "```Bash\n",
    "clustalo -i seq_in.fasta -o seq_out.fasta --force\n",
    "```\n",
    "\n",
    "`--force` est utilisé pour forcer l'écrasement du fichier de sortie si il existe déjà."
   ]
  },
  {
   "cell_type": "markdown",
   "id": "1a5116b5-c13f-4efa-8e2f-6d9e20f657aa",
   "metadata": {
    "tags": []
   },
   "source": [
    "## tree_generation\n",
    "\n",
    "Le deuxième module s'occupe de la génération d'arbre phylogénétiques. Ces arbres nécéssitent des séquences alignées, il fait donc appel au module précédent si vous n'avez pas préalablement aligné les séquences d'entrée."
   ]
  },
  {
   "cell_type": "code",
   "execution_count": 5,
   "id": "f2e61f4e-7eff-44cc-a92a-5142462f211e",
   "metadata": {},
   "outputs": [
    {
     "name": "stdout",
     "output_type": "stream",
     "text": [
      "Help on module tree_generation:\n",
      "\n",
      "NAME\n",
      "    tree_generation - This module generate trees based on a multi sequences alignment or does perform the alignment in case it has not been previously done.\n",
      "\n",
      "DESCRIPTION\n",
      "    See the documentation of the sequences_alignment module for the alignment.\n",
      "    \n",
      "    NJ and UPGMA algorithms are both supported for the tree generation.\n",
      "\n",
      "FUNCTIONS\n",
      "    draw_tree(tree)\n",
      "        Save a phylogenetic tree as a svg file.\n",
      "        \n",
      "        Parameters\n",
      "        ----------\n",
      "        tree : Bio.Phylo.BaseTree.Tree\n",
      "            The phylogenetic tree to save.\n",
      "    \n",
      "    tree_constructor(seq, spike708=False, svg=False)\n",
      "        Construct a tree using the NJ or UPGMA method.\n",
      "        \n",
      "        Parameters\n",
      "        ----------\n",
      "        seq : Bio.Align.MultipleSeqAlignment\n",
      "            A multiple sequences alignement.\n",
      "        spike708 : boolean (default False)\n",
      "            If the data provided are the original spike data.\n",
      "        svg : boolean (default False)\n",
      "            Wether or not the tree should be saved as a svg file.\n",
      "    \n",
      "    tree_manager(seq, aligned=False, align_method='clustalw', align_out=False, svg=False)\n",
      "        Construct a tree from a multi sequence alignement     or from a multi sequence file that will get aligned.\n",
      "        \n",
      "        Parameters\n",
      "        ----------\n",
      "        seq : Bio.Align.MultipleSeqAlignment or str\n",
      "            A multiple sequences alignement or the path the a fasta file.\n",
      "        aligned : boolean (default False)\n",
      "            Wether or not the seq specified is already aligned.\n",
      "        align_method : str (default clustalw)\n",
      "            The alignment algorithm, either clustalw or muscle.\n",
      "        align_out : boolean (default False)\n",
      "            Wether or not an output file should be generated from the alignment.\n",
      "        svg : boolean (default False)\n",
      "            Wether or not the tree should be saved as a svg file.\n",
      "\n",
      "FILE\n",
      "    d:\\data\\fac\\master\\m1\\python\\ete_tuto\\tree_generation.py\n",
      "\n",
      "\n"
     ]
    }
   ],
   "source": [
    "import tree_generation\n",
    "help(tree_generation)"
   ]
  },
  {
   "cell_type": "markdown",
   "id": "187ef481-8bf2-4acb-ba06-5d1fc188dce4",
   "metadata": {
    "jp-MarkdownHeadingCollapsed": true,
    "tags": []
   },
   "source": [
    "# Le jeu de donnée\n",
    "\n",
    "Pour mettre en pratique les outils d'ETE nous étudierons un jeu séquences de la protéine Spike du SARS-COV2. Ce jeu de donnée à été récupéré depuis la base de donnée du NCBI. Afin de trier ces séquences un threshold du nombre d'apparition de ces séquences a appliqué. Cela nous donne le fichier fasta que vous trouverez en `data\\spike_data_708.fasta`\n",
    "\n",
    "Le fichier fasta à ensuite été aligné à l'aide du module `sequences_alignment` présenté ci-dessus et en utilisant Clustal$\\Omega$. Un arbre a ensuite été généré à partir de cet alignement et grâce au module `tree_generation`. Nous avons utilisé blosum90 comme matrice de substitution à cause de la proximité des séquences. Nous avons utilisé le Neighbor Joining comme méthode phénétique."
   ]
  },
  {
   "cell_type": "markdown",
   "id": "00a18301-43d7-46e8-bc87-d04b55b3c4ea",
   "metadata": {
    "jp-MarkdownHeadingCollapsed": true,
    "tags": []
   },
   "source": [
    "# Ressources\n",
    "\n",
    "Voici quelques ressources intéréssantes qui vous permettront d'approfondir le sujet.\n",
    "\n",
    "Les ressources du projet ETE :\n",
    "* Tutoriel - http://etetoolkit.org/docs/latest/tutorial/index.html\n",
    "* Cookbook - http://etetoolkit.org/cookbook/\n",
    "* Repository GitHub - https://github.com/etetoolkit/ete\n",
    "* Article de recherche - https://academic.oup.com/mbe/article/33/6/1635/2579822\n",
    "\n",
    "Autres ressources sur ETE :\n",
    "* Tutoriel - https://evomics.org/wp-content/uploads/2019/01/ete_tutorial.pdf\n",
    "* Cours pratique - https://github.com/etetoolkit/course\n",
    "\n",
    "Les ressources de Biopython :\n",
    "* Tree Construction submodule - https://biopython.org/docs/1.75/api/Bio.Phylo.TreeConstruction.html\n",
    "* Tutoriel et CookBook - https://biopython.org/DIST/docs/tutorial/Tutorial.html\n",
    "\n",
    "Tous les fichiers utilisés sont disponibles [ici](https://github.com/nobabar/ete3_howto)."
   ]
  },
  {
   "cell_type": "markdown",
   "id": "76773a8d-f730-4d25-8435-78f707082b99",
   "metadata": {
    "tags": []
   },
   "source": [
    "# Pour aller plus loin : les external apps\n",
    "\n",
    "<div class=\"alert alert-block alert-warning\">\n",
    "<b>Attention :</b> la lecture de ce chapître n'est pas nécéssaire à la compréhension de notre projet ni même de l'utilisation de la librairie ETE. De plus elle suppose des pré-requis et ne rentrera pas dans tous les détails. Elle est donc uniquement faites pour prévenir les différents problèmes pouvant survenir lors de l'installation et l'utilisation des externals apps d'ETE.\n",
    "\n",
    "De plus nous ne vous conseillons pas de vous lancer dans l'installation des ces external apps si vous ne possédez pas une distribution \"classique\" de linux. En effet de nombreux problèmes sont survenus lorsque nous avons essayé d'installer celles-ci sur WSL ou Fedora.\n",
    "</div>"
   ]
  },
  {
   "cell_type": "markdown",
   "id": "c5cf10e9-2b8a-4f26-85cf-97993c5aa00c",
   "metadata": {
    "tags": []
   },
   "source": [
    "## Installation\n",
    "\n",
    "Nous prendrons ici l'example d'une installation avec `conda` mais il est aussi possible d'utiliser `mamba` ou `docker`.\n",
    "\n",
    "Création et activation d'un envirronement virtuel conda :\n",
    "```Bash\n",
    "$ conda create -name ete3_env python=X.X\n",
    "```\n",
    "\n",
    "```Bash\n",
    "$ conda activate ete3_env\n",
    "```\n",
    "\n",
    "Vous pouvez optionnelement préciser la version de python. Les external apps sont optimisée pour python 2.7 mais il est possible de les utiliser jusqu'à python 3.4. Il vous fera donc sûrement essayer plusieurs version avant que tout marche correctement.\n",
    "\n",
    "Vous pouvez ensuite installer l'ensemble des external apps ou bien seulement la toolchain (requise pour la génération d'arbre).\n",
    "```Bash\n",
    "$ conda install -c etetoolkit ete3 ete3_external_apps\n",
    "```\n",
    "\n",
    "```Bash\n",
    "$ conda install -c etetoolkit ete3 ete_toolchain\n",
    "```\n",
    "\n",
    "Il est possible que l'installation ne fonctionne pas à cause de conflits, il vous faudra alors vérifier que vous avez la bonne version de `PyQt`.\n",
    "```Bash\n",
    "$ conda list\n",
    "```\n",
    "\n",
    "Si vous avez la version 5 de `PyQt` il vous faudra installer la 4.\n",
    "```Bash\n",
    "$ conda install qt=4\n",
    "```\n",
    "\n",
    "Vérification de l'installation :\n",
    "```Bash\n",
    "$ ete3 build check\n",
    "```"
   ]
  },
  {
   "cell_type": "markdown",
   "id": "13dd8c2f-d220-46c3-b873-a9dea74a283f",
   "metadata": {
    "tags": []
   },
   "source": [
    "## Construction des arbres\n",
    " \n",
    "```Bash\n",
    "$ ete3 build -w workflow -a input_file -o output_folder\n",
    "```\n",
    "\n",
    "Une liste des workflows est disponible [ici](http://etetoolkit.org/cookbook/ete_build_list_apps.ipynb).\n",
    "\n",
    "Il est possible que ETE vous demande un serveur pour éxécuter cette commande. Pour cela vous pouvez faire appel à un [display server](https://www.wikiwand.com/en/Windowing_system#/Display_server) ou à un serveur distant."
   ]
  },
  {
   "cell_type": "markdown",
   "id": "bde22b67-6d43-4b41-a4b2-21dfeb16432b",
   "metadata": {},
   "source": [
    "### Sur display server\n",
    "\n",
    "La solution la plus courant est d'utiliser [Xvfb](https://www.x.org/releases/X11R7.7/doc/man/man1/Xvfb.1.xhtml).\n",
    "```Bash\n",
    "$ xvfb-run ete3 build -w standard_raxml -a spike_data_708.fasta -o output_tree\n",
    "```\n",
    "\n",
    "Mais il est tout à fait possible d'utiliser un serveur [X.Org](https://gitlab.freedesktop.org/xorg/xserver) tel que sa version avec dummy devices, [Xpra](https://github.com/Xpra-org/xpra).\n"
   ]
  },
  {
   "cell_type": "markdown",
   "id": "cb76ac69-f624-43d5-a9fd-23207093f1eb",
   "metadata": {
    "jp-MarkdownHeadingCollapsed": true,
    "tags": []
   },
   "source": [
    "### Sur serveur distant\n",
    "\n",
    "Nous prendrons ici l'exemple d'une utilisation sur les [clusters de l'IFB](https://www.france-bioinformatique.fr/cluster-ifb-core/) et donc plus géénralement du système de soumission SLURM.\n",
    "\n",
    "#### Commandes générales\n",
    "```Bash\n",
    "$ ssh <username>@core.cluster.france-bioinformatique.fr    #connect\n",
    "```\n",
    "\n",
    "```Bash\n",
    "$ module av                                                #check available modules\n",
    "```\n",
    "\n",
    "```Bash\n",
    "$ cd <dir>                                                 #move to a directory\n",
    "```\n",
    "\n",
    "```Bash\n",
    "$ ls                                                       #check current directory\n",
    "```\n",
    "\n",
    "```Bash\n",
    "$ nano <file>                                              #edit a file using nano text editor\n",
    "```\n",
    "\n",
    "#### Transfert de données\n",
    "\n",
    "Transfert de données locales au serveur par SSH :\n",
    "```Bash\n",
    "$ scp -r <data_dir> <username>@core.cluster.france-bioinformatique.fr:.\n",
    "```\n",
    "\n",
    "Dans l'autre sens il existe deux solutions :\n",
    "* Clients FTP/SFTP FileZilla/Cyberduck/...\n",
    "* Connecter l'explorateur de fichier à votre adresse sur le serveur `ftp://<username>@core.cluster.france-bioinformatique.fr`\n",
    "\n",
    "#### Soummettre une tâche\n",
    "\n",
    "```Bash\n",
    "$ nano tree.sh    # Création d'un fichier de commande bash contenant vos instructions\n",
    "\n",
    "__________________________________________________________________________________\n",
    "#!/bin/bash\n",
    "################################## Slurm options #################################\n",
    "### Job name\n",
    "#SBATCH --job-name=tree_generation\n",
    "### Limit run time \"days-hours:minutes:seconds\"\n",
    "#SBATCH --time=01:00:00\n",
    "### Requirements\n",
    "#SBATCH --partition=fast\n",
    "#SBATCH --nodes=1\n",
    "#SBATCH --ntasks-per-node=1\n",
    "#SBATCH --mem-per-cpu=8GB\n",
    "##################################################################################\n",
    "module load python/2.7\n",
    "ete3 build -w standard_raxml -a spike_data_708.fasta -o output_tree\n",
    "__________________________________________________________________________________\n",
    "```\n",
    "\n",
    "```Bash\n",
    "$ sbatch tree.sh           # lancement la tâche\n",
    "```\n",
    "\n",
    "```Bash\n",
    "$ nano slurm-<jobID>.out    # vérification du log\n",
    "```"
   ]
  }
 ],
 "metadata": {
  "kernelspec": {
   "display_name": "Python 3 (ipykernel)",
   "language": "python",
   "name": "python3"
  },
  "language_info": {
   "codemirror_mode": {
    "name": "ipython",
    "version": 3
   },
   "file_extension": ".py",
   "mimetype": "text/x-python",
   "name": "python",
   "nbconvert_exporter": "python",
   "pygments_lexer": "ipython3",
   "version": "3.9.5"
  }
 },
 "nbformat": 4,
 "nbformat_minor": 5
}
