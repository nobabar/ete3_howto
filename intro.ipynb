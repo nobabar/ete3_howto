{
 "cells": [
  {
   "cell_type": "markdown",
   "id": "a61390d4-bd5a-45c1-b567-18c21d10ed9a",
   "metadata": {
    "jp-MarkdownHeadingCollapsed": true,
    "tags": []
   },
   "source": [
    "# Les arbres Phylogénétiques\n",
    "\n",
    "Les arbres phylogénétiques sont largement utilisés en biologie et notamment en génétique. Ils sont constitués de branches se séparant en n&oelig;ud et se terminant en feuilles. Les arbres sont des examples de graphes orientés acycliques. C'est à dire qu'ils ont une direction et ne possède pas de circuit.\n",
    "\n",
    "Les arbres phylogénétiques sont utilisés pour représenter des relations de parenté entres des êtres vivants ou des groupes d'êtres vivants. Chaque n&oelig;ud montrant l'ancêtre commun des différentes branches subsidiaires. La hauteur d'un n&oelig;ud est la longueur du plus grand chemin depuis une feuille jusqu'à ce n&oelig;ud. La profondeur d'un n&oelig;ud est la distance avec la racine.\n",
    "\n",
    "Ici nous utiliserons des arbres en format Newick (.nwk), c'est l'un des formats les plus couramment utilisé. Ces arbres contiennent l'information des n&oelig;ud de l'arbre, de leur hiérarchie ainsi que la distance de chacun avec son n&oelig;ud d'ordre supérieur dans un réseau de parenthèses imbriquées."
   ]
  },
  {
   "cell_type": "markdown",
   "id": "6430ff8e-6a1c-40b3-b4b9-0e834122c3f5",
   "metadata": {
    "jp-MarkdownHeadingCollapsed": true,
    "tags": []
   },
   "source": [
    "# La librairie ETE\n",
    "\n",
    "ETE est une librairie python qui facilite la manipulation, analyse et visualisation d'arbres phylogénétiques. L'avantage d'ETE est qu'il ne fait aucune distinction entre un arbre et un n&oelig;ud. Les arbres pouvant être représentés à partir de leur racine, un n&oelig;ud peut donc devenir la racine d'un arbre. Il est donc très facile de partitionner ou de fusionner des arbres ETE.\n",
    "\n",
    "Cependant il existe des arbres phylogénétiques non enracinés, ce n'est pas un problème car ETE considèrera le pointeur du n&oelig;ud ayant la plus grande hauteur comme la racine. Ainsi un arbre non enraciné sera un arbre dont la racine a plus que deux enfants."
   ]
  },
  {
   "cell_type": "code",
   "execution_count": 1,
   "id": "94021ad9-aab2-4f18-854e-f120c4ba496a",
   "metadata": {},
   "outputs": [
    {
     "name": "stderr",
     "output_type": "stream",
     "text": [
      "D:\\Software\\Miniconda\\lib\\site-packages\\ete3-3.1.2-py3.7.egg\\ete3\\evol\\parser\\codemlparser.py:221: SyntaxWarning: \"is\" with a literal. Did you mean \"==\"?\n",
      "D:\\Software\\Miniconda\\lib\\site-packages\\ete3-3.1.2-py3.7.egg\\ete3\\evol\\parser\\codemlparser.py:221: SyntaxWarning: \"is\" with a literal. Did you mean \"==\"?\n"
     ]
    },
    {
     "name": "stdout",
     "output_type": "stream",
     "text": [
      "\n",
      "   /-A\n",
      "  |\n",
      "--|--B\n",
      "  |\n",
      "  |   /-C\n",
      "   \\-|\n",
      "      \\-D\n"
     ]
    }
   ],
   "source": [
    "from ete3 import Tree\n",
    "unrooted_tree = Tree( \"(A,B,(C,D));\" )\n",
    "print(unrooted_tree)"
   ]
  },
  {
   "cell_type": "code",
   "execution_count": 2,
   "id": "2a1ba857-af69-4b5d-b593-d4dcb7fc54de",
   "metadata": {},
   "outputs": [
    {
     "name": "stdout",
     "output_type": "stream",
     "text": [
      "\n",
      "      /-A\n",
      "   /-|\n",
      "  |   \\-B\n",
      "--|\n",
      "  |   /-C\n",
      "   \\-|\n",
      "      \\-D\n"
     ]
    }
   ],
   "source": [
    "rooted_tree = Tree( \"((A,B),(C,D));\" )\n",
    "print(rooted_tree)"
   ]
  },
  {
   "cell_type": "markdown",
   "id": "c52671a8-7386-4c8d-a502-0c8bc7ccf678",
   "metadata": {},
   "source": [
    "Vous pouvez voir que j'ai ici importé la librairie ETE grâce à `import ete3`. Pour l'installer vous pouvez utiliser l'outil de gestion des paquets de votre choix (conda, mamba ou bien pip)."
   ]
  },
  {
   "cell_type": "markdown",
   "id": "d07bed66-98e0-4ab4-ae00-ce02d18910d2",
   "metadata": {},
   "source": [
    "Concernant la génération des arbres phylogénétiques ETE propose une suite de toolkits donnant notamment accès à des commandes bash pour la génération d'arbres. Cependant leur installation est complexe et pose de nombreux problèmes de compatibilité, nous ne vous recommandons donc pas son utilisation. Si vous êtes toutefois interéssés par cela un guide rapide vous est proposé en fin de tuto."
   ]
  },
  {
   "cell_type": "markdown",
   "id": "34dc4ed5-1bb9-41f9-9751-a3aea91d1188",
   "metadata": {
    "jp-MarkdownHeadingCollapsed": true,
    "tags": []
   },
   "source": [
    "# Nos modules\n",
    "\n",
    "Nous remplacerons les toolkits d'ETE des modules utilisant principalement la librairie Biopython. Vous les trouverez dans les fichiers joints sous les noms de `sequences_alignment.py` et `tree_generation.py`.\n",
    "\n",
    "Le premier module sert à faire de l'aligment multiple de séquences tout en gérer plusieurs cas possibles."
   ]
  },
  {
   "cell_type": "code",
   "execution_count": 4,
   "id": "b9183578-56be-4a49-935e-cabdbaf441d4",
   "metadata": {},
   "outputs": [
    {
     "name": "stdout",
     "output_type": "stream",
     "text": [
      "Help on module sequences_alignment:\n",
      "\n",
      "NAME\n",
      "    sequences_alignment - This module align a multi sequences fasta file.\n",
      "\n",
      "DESCRIPTION\n",
      "    ClustalW and Muscle algorithms are both supported for the alignment.\n",
      "\n",
      "FUNCTIONS\n",
      "    align_seq(in_dir, method='clustalw', out_file=False)\n",
      "        Align multiple sequences using the MUSCLE algorithm.\n",
      "        \n",
      "        Parameters\n",
      "        ----------\n",
      "        in_dir : dir\n",
      "            The directory to the file containing the sequences.\n",
      "        method : str (default clustalw)\n",
      "            The alignment algorithm, either clustalw or muscle.\n",
      "        out_dir : boolean (default False)\n",
      "            Wether or not a output file should be generated.\n",
      "        \n",
      "        Returns\n",
      "        -------\n",
      "        Bio.Align.MultipleSeqAlignment\n",
      "            The aligned sequences.\n",
      "\n",
      "FILE\n",
      "    d:\\data\\fac\\master\\m1\\python\\ete_tuto\\sequences_alignment.py\n",
      "\n",
      "\n"
     ]
    }
   ],
   "source": [
    "import sequences_alignment\n",
    "help(sequences_alignment)"
   ]
  },
  {
   "cell_type": "markdown",
   "id": "29bf51a1-ad9d-4622-b1c7-a79ab148039f",
   "metadata": {},
   "source": [
    "Cependant son fonctionnement peut se résummer à l'appel de la command line bash suivante :\n",
    "Windows :\n",
    "```Bash\n",
    "./clustalo.exe -i seq_in.fasta -o seq_out.fasta --force\n",
    "```\n",
    "Linux :\n",
    "```Bash\n",
    "clustalo -i seq_in.fasta -o seq_out.fasta --force\n",
    "```\n",
    "`--force` est utilisé pour forcer l'écrasement du fichier de sortie si il existe déjà."
   ]
  },
  {
   "cell_type": "markdown",
   "id": "1a5116b5-c13f-4efa-8e2f-6d9e20f657aa",
   "metadata": {},
   "source": [
    "Le deuxième module s'occupe de la génération d'arbre phylogénétiques. Ces arbres nécéssitent des séquences alignées, il fait donc appel au module précédent si vous n'avez pas préalablement aligné les séquences d'entrée."
   ]
  },
  {
   "cell_type": "code",
   "execution_count": 5,
   "id": "f2e61f4e-7eff-44cc-a92a-5142462f211e",
   "metadata": {},
   "outputs": [
    {
     "name": "stdout",
     "output_type": "stream",
     "text": [
      "Help on module tree_generation:\n",
      "\n",
      "NAME\n",
      "    tree_generation - This module generate trees based on a multi sequences alignment or does perform the alignment in case it has not been preiviously done.\n",
      "\n",
      "DESCRIPTION\n",
      "    See the documentation of the sequences_alignment module for the alignment.\n",
      "    \n",
      "    NJ and UPGMA algorithms are both supported for the tree generation.\n",
      "\n",
      "FUNCTIONS\n",
      "    draw_tree(tree, method)\n",
      "        Save a phylogenetic tree as a svg file.\n",
      "        \n",
      "        Parameters\n",
      "        ----------\n",
      "        tree : Bio.Phylo.BaseTree.Tree\n",
      "            The phylogenetic tree to save.\n",
      "        method : str\n",
      "            The method used to generate the tree, used for the file name.\n",
      "    \n",
      "    parsimony_constructor(tree, seq, svg=False)\n",
      "        Construct a tree using the parsimony method.\n",
      "        \n",
      "        Parameters\n",
      "        ----------\n",
      "        tree : Bio.Phylo.BaseTree.Tree\n",
      "            A model tree to use as comparison.\n",
      "        seq : Bio.Align.MultipleSeqAlignment\n",
      "            A multiple sequences alignement.\n",
      "        svg : boolean (default False)\n",
      "            Wether or not the tree should be saved as a svg file.\n",
      "    \n",
      "    tree_constructor(seq, method='nj', svg=False)\n",
      "        Construct a tree using the NJ or UPGMA method.\n",
      "        \n",
      "        Parameters\n",
      "        ----------\n",
      "        seq : Bio.Align.MultipleSeqAlignment\n",
      "            A multiple sequences alignement.\n",
      "        method : str (default nj)\n",
      "            Indicates which method to use, NJ or UPGMA.\n",
      "        svg : boolean (default False)\n",
      "            Wether or not the tree should be saved as a svg file.\n",
      "        \n",
      "        Returns\n",
      "        -------\n",
      "        Bio.Phylo.BaseTree.Tree\n",
      "            The generated UPGMA tree\n",
      "    \n",
      "    tree_manager(seq, aligned=False, align_method='clustalw', align_out=False, tree_method='nj', svg=False, parsimony=False)\n",
      "        Construct a tree from a multi sequence alignement     or from a multi sequence file that will get aligned.\n",
      "        \n",
      "        Parameters\n",
      "        ----------\n",
      "        seq : Bio.Align.MultipleSeqAlignment\n",
      "            A multiple sequences alignement.\n",
      "        aligned : boolean (default False)\n",
      "            Wether or not the seq specified is already aligned.\n",
      "        align_method : str (default clustalw)\n",
      "            The alignment algorithm, either clustalw or muscle.\n",
      "        align_out : boolean (default False)\n",
      "            Wether or not an output file should be generated from the alignment.\n",
      "        tree_method : str (default nj)\n",
      "            The method to use for the tree generation, either NJ or UPGMA.\n",
      "        svg : boolean (default False)\n",
      "            Wether or not the tree should be saved as a svg file.\n",
      "        parsimony : boolean (default False)\n",
      "            Wether or not a parsimony tree should be generated.\n",
      "\n",
      "FILE\n",
      "    d:\\data\\fac\\master\\m1\\python\\ete_tuto\\tree_generation.py\n",
      "\n",
      "\n"
     ]
    }
   ],
   "source": [
    "import tree_generation\n",
    "help(tree_generation)"
   ]
  },
  {
   "cell_type": "markdown",
   "id": "187ef481-8bf2-4acb-ba06-5d1fc188dce4",
   "metadata": {},
   "source": [
    "# Le jeu de donnée\n",
    "\n",
    "Pour mettre en pratique les outils d'ETE nous étudierons un jeu séquences de la protéine Spike du SARS-COV2. Ce jeu de donnée à été récupéré depuis la base de donnée du NCBI. Afin de trier ces séquences un threshold du nombre d'apparition de ces séquences a appliqué. Cela nous donne le fichier fasta que vous trouverez en `data\\spike_data_708.fasta`\n",
    "\n",
    "Le fichier fasta à ensuite été aligné à l'aide du module `sequences_alignment` présenté ci-dessus et en utilisant Clustal$\\Omega$. Un arbre a ensuite été généré à partir de cet alignement et grâce au module `tree_generation`. Nous avons utilisé blosum90 comme matrice de substitution à cause de la proximité des séquences. Nous avons utilisé le Neighbor Joining comme méthode phénétique."
   ]
  }
 ],
 "metadata": {
  "kernelspec": {
   "display_name": "Python 3 (ipykernel)",
   "language": "python",
   "name": "python3"
  },
  "language_info": {
   "codemirror_mode": {
    "name": "ipython",
    "version": 3
   },
   "file_extension": ".py",
   "mimetype": "text/x-python",
   "name": "python",
   "nbconvert_exporter": "python",
   "pygments_lexer": "ipython3",
   "version": "3.9.5"
  }
 },
 "nbformat": 4,
 "nbformat_minor": 5
}
